{
  "nbformat": 4,
  "nbformat_minor": 0,
  "metadata": {
    "colab": {
      "provenance": []
    },
    "kernelspec": {
      "name": "python3",
      "display_name": "Python 3"
    },
    "language_info": {
      "name": "python"
    }
  },
  "cells": [
    {
      "cell_type": "code",
      "execution_count": null,
      "metadata": {
        "colab": {
          "base_uri": "https://localhost:8080/"
        },
        "id": "OHPezTC2K5mi",
        "outputId": "a92308a9-9775-47c1-eace-39548114b655"
      },
      "outputs": [
        {
          "output_type": "stream",
          "name": "stdout",
          "text": [
            "Nhập vào một số nguyên n là:1234\n",
            "Các chữ số đảo ngược nhau : 4321\n"
          ]
        }
      ],
      "source": [
        "#bài1\n",
        "n=int(input(\"Nhập vào một số nguyên n là:\"))\n",
        "dao=int(str(n)[::-1])\n",
        "print(\"Các chữ số đảo ngược nhau :\",dao)"
      ]
    },
    {
      "cell_type": "code",
      "source": [
        "#bài2\n",
        "a=int(input(\"Nhập vào số a :\"))\n",
        "b=int(input(\"Nhập vào số b :\"))\n",
        "a= a ^ b\n",
        "b= a ^ b\n",
        "a= a ^ b\n",
        "print(\"a=\",a)\n",
        "print(\"b=\",b)"
      ],
      "metadata": {
        "colab": {
          "base_uri": "https://localhost:8080/"
        },
        "id": "SdAX4FiWNw8h",
        "outputId": "63aaf0db-a7ab-4d38-e3bf-2f8faca782a8"
      },
      "execution_count": null,
      "outputs": [
        {
          "output_type": "stream",
          "name": "stdout",
          "text": [
            "Nhập vào số a :2 \n",
            "Nhập vào số b :6\n",
            "a= 6\n",
            "b= 2\n"
          ]
        }
      ]
    },
    {
      "cell_type": "code",
      "source": [
        "#bài3\n",
        "n=int(input(\"Nhập vào một số là lũy thừa của 2: \"))\n",
        "if n>0 and n&(n-1)==0:\n",
        "  print(\"True\")\n",
        "else:\n",
        "  print(\"False\")"
      ],
      "metadata": {
        "colab": {
          "base_uri": "https://localhost:8080/"
        },
        "id": "Hj0eyGHCRzIA",
        "outputId": "b6b5fec4-6b05-4622-824b-93e459237c8f"
      },
      "execution_count": 21,
      "outputs": [
        {
          "output_type": "stream",
          "name": "stdout",
          "text": [
            "Nhập vào một số là lũy thừa của 2: 4\n",
            "True\n"
          ]
        }
      ]
    },
    {
      "cell_type": "code",
      "source": [
        "#bài4\n",
        "m=int(input(\"Nhập số m=\"))\n",
        "n=int(input(\"Nhập số n=\"))\n",
        "if n==0:\n",
        "  print(\"Không thể chia cho 0\")\n",
        "else:\n",
        "  print(\"Kết quả của phép chia (kết quả làm tròn xuống):\",m//n)"
      ],
      "metadata": {
        "colab": {
          "base_uri": "https://localhost:8080/"
        },
        "id": "yhUcELqDTiIo",
        "outputId": "db765b21-0e63-4b1e-dfa2-71f8c76afa20"
      },
      "execution_count": 6,
      "outputs": [
        {
          "output_type": "stream",
          "name": "stdout",
          "text": [
            "Nhập số m=2323\n",
            "Nhập số n=45\n",
            "Kết quả của phép chia (kết quả làm tròn xuống): 51\n"
          ]
        }
      ]
    },
    {
      "cell_type": "code",
      "source": [
        "#bài5\n",
        "a=int(input(\"Nhập số a = \"))\n",
        "b=int(input(\"Nhập số b = \"))\n",
        "if b==0:\n",
        "   print(\"Không thể chia cho 0\")\n",
        "else:\n",
        "   print(\"Kết quả của phép chia(kết quả làm tròn lên):\",(a//b)+1)"
      ],
      "metadata": {
        "colab": {
          "base_uri": "https://localhost:8080/"
        },
        "id": "dhl-s6IQUTm3",
        "outputId": "394998a3-95eb-4fbb-cac3-a2d760ad95f2"
      },
      "execution_count": 7,
      "outputs": [
        {
          "output_type": "stream",
          "name": "stdout",
          "text": [
            "Nhập số a = 2323\n",
            "Nhập số b = 45\n",
            "Kết quả của phép chia(kết quả làm tròn lên): 52\n"
          ]
        }
      ]
    },
    {
      "cell_type": "code",
      "source": [
        "#bài6\n",
        "x=int(input(\"Nhập vào số dương x: \"))\n",
        "if x<0:\n",
        "  print(\"Không nhập số âm\")\n",
        "elif x%2==0:\n",
        "  print(\"Even\")\n",
        "else:\n",
        "  print(\"Odd\")"
      ],
      "metadata": {
        "colab": {
          "base_uri": "https://localhost:8080/"
        },
        "id": "i0d1cZWbVoNX",
        "outputId": "cb2b6604-a07f-40c3-c945-1f55de86a411"
      },
      "execution_count": 10,
      "outputs": [
        {
          "output_type": "stream",
          "name": "stdout",
          "text": [
            "Nhập vào số dương x: 3\n",
            "Odd\n"
          ]
        }
      ]
    },
    {
      "cell_type": "code",
      "source": [
        "#bài7\n",
        "a=int(input(\"Nhập số a = \"))\n",
        "b=int(input(\"Nhập số b = \"))\n",
        "if a<0 and b<0:\n",
        "  print(\"Yes\")\n",
        "else:\n",
        "  print(\"No\")"
      ],
      "metadata": {
        "colab": {
          "base_uri": "https://localhost:8080/"
        },
        "id": "0Offs4OSXNT3",
        "outputId": "a9f5dd1f-d8bd-493b-fbcb-0f50ea9791b7"
      },
      "execution_count": 12,
      "outputs": [
        {
          "output_type": "stream",
          "name": "stdout",
          "text": [
            "Nhập số a = 4 \n",
            "Nhập số b = -1\n",
            "No\n"
          ]
        }
      ]
    },
    {
      "cell_type": "code",
      "source": [
        "#bài8\n",
        "a=input(\"Nhập vào chuỗi a: \")\n",
        "b=input(\"Nhập vào chuỗi b:\")\n",
        "if len(a) > len(b):\n",
        "  print(\"True\")\n",
        "else:\n",
        "  print(\"False\")"
      ],
      "metadata": {
        "colab": {
          "base_uri": "https://localhost:8080/"
        },
        "id": "b2IA84MViqyg",
        "outputId": "c2ac3c4d-9a10-4418-fa41-f81a885f334f"
      },
      "execution_count": 11,
      "outputs": [
        {
          "output_type": "stream",
          "name": "stdout",
          "text": [
            "Nhập vào chuỗi a: mouse\n",
            "Nhập vào chuỗi b:dog\n",
            "True\n"
          ]
        }
      ]
    },
    {
      "cell_type": "code",
      "source": [
        "#Bài9\n",
        "a=int(input(\"Độ dài cạnh thứ nhất của tam giác: \"))\n",
        "b=int(input(\"Độ dài cạnh thứ hai của tam giác: \"))\n",
        "c=int(input(\"Độ dài cạnh thứ ba của tam giác: \"))\n",
        "if a+b>c and b+c>a and a+c>b:\n",
        "  print(\"Yes\")\n",
        "else:\n",
        "  print(\"No\")"
      ],
      "metadata": {
        "colab": {
          "base_uri": "https://localhost:8080/"
        },
        "id": "JOkSztHHkTbC",
        "outputId": "155ac5fc-ae26-4182-8d47-119e0fb70c50"
      },
      "execution_count": 13,
      "outputs": [
        {
          "output_type": "stream",
          "name": "stdout",
          "text": [
            "Độ dài cạnh thứ nhất của tam giác: 10\n",
            "Độ dài cạnh thứ hai của tam giác: 11\n",
            "Độ dài cạnh thứ ba của tam giác: -12\n",
            "No\n"
          ]
        }
      ]
    },
    {
      "cell_type": "code",
      "source": [
        "#bài10\n",
        "a = int(input(\"Nhập số thứ nhất: \"))\n",
        "b = int(input(\"Nhập số thứ hai: \"))\n",
        "c = int(input(\"Nhập số thứ ba: \"))\n",
        "d = int(input(\"Nhập số thứ tư: \"))\n",
        "\n",
        "so_max = max(a, b, c, d)\n",
        "\n",
        "print(\"Số lớn nhất:\", so_max)"
      ],
      "metadata": {
        "colab": {
          "base_uri": "https://localhost:8080/"
        },
        "id": "Ut5H5QULlfAn",
        "outputId": "5e21240e-f82f-42d7-a3f6-ab78af2fd114"
      },
      "execution_count": 16,
      "outputs": [
        {
          "output_type": "stream",
          "name": "stdout",
          "text": [
            "Nhập số thứ nhất: 1\n",
            "Nhập số thứ hai: 2\n",
            "Nhập số thứ ba: 3\n",
            "Nhập số thứ tư: 4\n",
            "Số lớn nhất: 4\n"
          ]
        }
      ]
    },
    {
      "cell_type": "code",
      "source": [
        "#bài11\n",
        "a=int(input(\"Nhập vào cạnh thứ nhất:\"))\n",
        "b=int(input(\"Nhập vào cạnh thứ hai:\"))\n",
        "c=int(input(\"Nhập vào cạnh thứ ba:\"))\n",
        "if a+b>c and a+c>b and b+c>a:\n",
        "  print(\"Đây là một tam giác\")\n",
        "  if a==b==c:\n",
        "    print(\"Đây là tam giác đều\")\n",
        "  elif a==b or a==c or b==c:\n",
        "    print(\"Đây là tam giác cân\")\n",
        "  else:\n",
        "    print(\"Đây là tam giác thường\")\n",
        "else:\n",
        "  print(\"Đây không phải là tam giác\")"
      ],
      "metadata": {
        "colab": {
          "base_uri": "https://localhost:8080/"
        },
        "id": "5hyaL4SSmvt2",
        "outputId": "27b4eb55-785b-469b-ed11-b6f39bde23d5"
      },
      "execution_count": null,
      "outputs": [
        {
          "output_type": "stream",
          "name": "stdout",
          "text": [
            "Nhập vào cạnh thứ nhất:1\n",
            "Nhập vào cạnh thứ hai:2\n",
            "Nhập vào cạnh thứ ba:4\n",
            "Đây không phải là tam giác\n"
          ]
        }
      ]
    },
    {
      "cell_type": "code",
      "source": [
        "#bài12\n",
        "nam=int(input(\"Nhập vào năm:\"))\n",
        "if nam<0:\n",
        "  print(\"Năm không hợp lệ\")\n",
        "elif nam%400==0 or (nam%4==0 and nam%100 != 0):\n",
        "  print(\"Yes\")\n",
        "else:\n",
        "  print(\"No\")"
      ],
      "metadata": {
        "colab": {
          "base_uri": "https://localhost:8080/"
        },
        "id": "nAaoApLarJIC",
        "outputId": "a9d72b45-801e-4d46-abda-3a3341151fe3"
      },
      "execution_count": 17,
      "outputs": [
        {
          "output_type": "stream",
          "name": "stdout",
          "text": [
            "Nhập vào năm:2000\n",
            "Yes\n"
          ]
        }
      ]
    },
    {
      "cell_type": "code",
      "source": [
        "#bài13\n",
        "so_dien=int(input(\"Nhập vào số kWh điện tiêu thụ :\"))\n",
        "if so_dien<0:\n",
        "  print(\"Số điện không hợp lệ\")\n",
        "elif 0<so_dien<=50:\n",
        "  tien=so_dien*1500\n",
        "elif 50<so_dien<=100:\n",
        "  tien=50*1500+(so_dien-50)*2000\n",
        "else:\n",
        "  tien=50*1500+50*2000+(so_dien-100)*3000\n",
        "print(\"Số tiền điện phải trả là:\",tien,\"đồng\")"
      ],
      "metadata": {
        "colab": {
          "base_uri": "https://localhost:8080/"
        },
        "id": "j12rwtxYrdT5",
        "outputId": "c22dceaf-69b0-4e06-b5a6-876a9c66c83f"
      },
      "execution_count": 18,
      "outputs": [
        {
          "output_type": "stream",
          "name": "stdout",
          "text": [
            "Nhập vào số kWh điện tiêu thụ :120\n",
            "Số tiền điện phải trả là: 235000 đồng\n"
          ]
        }
      ]
    },
    {
      "cell_type": "code",
      "source": [
        "#bài14\n",
        "a=float(input(\"Nhập vào số thực a trong pt (ax+b=0) là :\"))\n",
        "b=float(input(\"Nhập vào số thực b trong pt (ax+b=0) là :\"))\n",
        "if a == 0:\n",
        "    if b == 0:\n",
        "        print(\"Phương trình có vô số nghiệm\")\n",
        "    else:\n",
        "        print(\"Phương trình vô nghiệm\")\n",
        "else:\n",
        "    nghiem = -b / a\n",
        "    print(\"Nghiệm của phương trình:\", f\"{nghiem:.2f}\")\n"
      ],
      "metadata": {
        "id": "uk2OurF1RwW3",
        "colab": {
          "base_uri": "https://localhost:8080/"
        },
        "outputId": "150e12e1-820f-4314-d4f2-c4b6fb605fde"
      },
      "execution_count": null,
      "outputs": [
        {
          "output_type": "stream",
          "name": "stdout",
          "text": [
            "Nhập vào số thực a trong pt (ax+b=0) là :0\n",
            "Nhập vào số thực b trong pt (ax+b=0) là :0\n",
            "Phương trình có vô số nghiệm\n"
          ]
        }
      ]
    },
    {
      "cell_type": "code",
      "source": [
        "#bài15\n",
        "diem=float(input(\"Nhập điểm của học sinh : \"))\n",
        "if diem>=8:\n",
        "  print(\"Học lực giỏi\")\n",
        "elif 6.5<=diem<8:\n",
        "  print(\"Học lực khá\")\n",
        "elif 5<=diem<6.5:\n",
        "  print(\"Học lực trung bình\")\n",
        "else:\n",
        "  print(\"Học lực yếu\")\n"
      ],
      "metadata": {
        "id": "XMfNma2wukjG",
        "colab": {
          "base_uri": "https://localhost:8080/"
        },
        "outputId": "18dc24d9-e5d0-4058-8fd5-4af6a936d8e1"
      },
      "execution_count": null,
      "outputs": [
        {
          "output_type": "stream",
          "name": "stdout",
          "text": [
            "Nhập điểm của học sinh : 2.5\n",
            "Học lực yếu\n"
          ]
        }
      ]
    },
    {
      "cell_type": "code",
      "source": [
        "#bài16\n",
        "a=float(input(\"Nhập vào một số thực : \"))\n",
        "if a>=0:\n",
        "  tron_xuong=int(a)\n",
        "else:\n",
        "  if a== int(a):\n",
        "    tron_xuong=int(a)\n",
        "  else:\n",
        "    tron_xuong=int(a)-1\n",
        "if a>=0:\n",
        "  if a==int(a):\n",
        "   tron_len=int(a)\n",
        "  else:\n",
        "   tron_len=int(a)+1\n",
        "else:\n",
        "  tron_len=int(a)\n",
        "if a>=0:\n",
        "  if a-int(a)>=0.5:\n",
        "    tron_gan_nhat=int(a)+1\n",
        "  else:\n",
        "    tron_gan_nhat=int(a)\n",
        "else:\n",
        "  if a-int(a)>-0.5:\n",
        "    tron_gan_nhat=int(a)\n",
        "  else:\n",
        "    tron_gan_nhat=int(a)-1\n",
        "print(tron_len, tron_xuong, tron_gan_nhat )"
      ],
      "metadata": {
        "colab": {
          "base_uri": "https://localhost:8080/"
        },
        "id": "oIy9zQZuQDr_",
        "outputId": "d5360ff3-0934-4a47-ca68-961f661ba348"
      },
      "execution_count": null,
      "outputs": [
        {
          "output_type": "stream",
          "name": "stdout",
          "text": [
            "Nhập vào một số thực : 7.4\n",
            "8 7 7\n"
          ]
        }
      ]
    },
    {
      "cell_type": "code",
      "source": [
        "#bài17\n",
        "a=int(input(\"Nhập cạnh thứ nhất của tam giác:\"))\n",
        "b=int(input(\"Nhập cạnh thứ hai của tam giác:\"))\n",
        "c=int(input(\"Nhập cạnh thứ ba của tam giác:\"))\n",
        "if a+b>c and a+c>b and b+c>a:\n",
        "  print(\"Đây là một tam giác\")\n",
        "  if a==b==c:\n",
        "    print(\"Đây là tam giác đều\")\n",
        "  if a==b or b==c or a==c:\n",
        "    print(\"Đây là tam giác cân\")\n",
        "else:\n",
        "  print(\"Đây không phải là tam giác\")"
      ],
      "metadata": {
        "colab": {
          "base_uri": "https://localhost:8080/"
        },
        "id": "PpRZ6ANVWGQk",
        "outputId": "0d7dac8d-450c-45df-dc7f-edf1c1f3c3a1"
      },
      "execution_count": null,
      "outputs": [
        {
          "output_type": "stream",
          "name": "stdout",
          "text": [
            "Nhập cạnh thứ nhất của tam giác:6\n",
            "Nhập cạnh thứ hai của tam giác:5\n",
            "Nhập cạnh thứ ba của tam giác:6\n",
            "Đây là một tam giác\n",
            "Đây là tam giác cân\n"
          ]
        }
      ]
    }
  ]
}